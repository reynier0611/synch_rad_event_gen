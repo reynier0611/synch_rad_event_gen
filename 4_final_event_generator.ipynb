{
 "cells": [
  {
   "cell_type": "markdown",
   "id": "03fdd844",
   "metadata": {},
   "source": [
    "## Synchrotron-radiation event generator from Synrad+ table\n",
    "authors: Rey Cruz-Torres, Benjamen Sterwerf\n",
    "\n",
    "Begin by choosing the number of events and time integration window wanted. See the next cell to get an idea of the cost of running certain number of events."
   ]
  },
  {
   "cell_type": "code",
   "execution_count": null,
   "id": "244b32fc",
   "metadata": {},
   "outputs": [],
   "source": [
    "# number of synchrotron-radiation photon events to generate and integration window\n",
    "n_events = 100000\n",
    "integration_window = 100.e-9 # seconds"
   ]
  },
  {
   "cell_type": "code",
   "execution_count": null,
   "id": "f9b710d0",
   "metadata": {},
   "outputs": [],
   "source": [
    "import matplotlib.pyplot as plt\n",
    "x_nevt = [10,100,1e+03,1e+04,1e+05]\n",
    "t_min = [0.27,0.35,1,8.7,123]\n",
    "size_MB = [0.878,8.8,90,909,8500]\n",
    "fig = plt.figure(figsize=(10,5))\n",
    "plt.subplot(1,2,1)\n",
    "plt.plot(x_nevt,t_min,marker='o')\n",
    "plt.xlabel('number of events'); plt.ylabel('generation time (min)'); plt.title('100 ns integration window')\n",
    "plt.xscale('log'); plt.yscale('log')\n",
    "plt.subplot(1,2,2)\n",
    "plt.plot(x_nevt,size_MB,marker='o')\n",
    "plt.xlabel('number of events'); plt.ylabel('output file size (Mb)')\n",
    "plt.xscale('log'); plt.yscale('log')"
   ]
  },
  {
   "cell_type": "code",
   "execution_count": null,
   "id": "b46a8e04",
   "metadata": {},
   "outputs": [],
   "source": [
    "import numpy as np\n",
    "import pandas as pd\n",
    "import math\n",
    "import pyhepmc_ng as hep\n",
    "import ROOT\n",
    "ROOT.gStyle.SetOptStat(0)\n",
    "import time\n",
    "t0 = time.time()"
   ]
  },
  {
   "cell_type": "markdown",
   "id": "ddd0042c",
   "metadata": {},
   "source": [
    "#### Set some important variables"
   ]
  },
  {
   "cell_type": "code",
   "execution_count": null,
   "id": "08c98227",
   "metadata": {},
   "outputs": [],
   "source": [
    "pid = 22 # 22 = photon, 211 = charged pion (for testing)\n",
    "\n",
    "outfname = 'out_int_window_{}ns_nevents_{}.hepmc'.format(integration_window*1e+09,n_events)\n",
    "ROOT.gRandom.SetSeed(42)\n",
    "\n",
    "testParticleKin = {'px':0.,'py':3.0,'pz':0.,'pid':-11,'m':5.11e-4}"
   ]
  },
  {
   "cell_type": "markdown",
   "id": "c3f8ea47",
   "metadata": {},
   "source": [
    "#### Load data"
   ]
  },
  {
   "cell_type": "code",
   "execution_count": null,
   "id": "08da06d6",
   "metadata": {},
   "outputs": [],
   "source": [
    "df = pd.read_csv('combined_data.csv')"
   ]
  },
  {
   "cell_type": "markdown",
   "id": "2ed59732",
   "metadata": {},
   "source": [
    "#### Explore structure of dataframe and drop some redundant columns. Save a version of this dataframe"
   ]
  },
  {
   "cell_type": "code",
   "execution_count": null,
   "id": "abbb973d",
   "metadata": {},
   "outputs": [],
   "source": [
    "df = df.drop('E'    ,axis=1)\n",
    "df = df.drop('P'    ,axis=1)\n",
    "df = df.drop('Fs'   ,axis=1)\n",
    "df = df.drop('facet',axis=1)\n",
    "df = df.drop('rho'  ,axis=1)\n",
    "df = df.drop('theta',axis=1)\n",
    "df = df.drop('phi'  ,axis=1)\n",
    "\n",
    "df = df.sort_values('NormFact')\n",
    "\n",
    "# x, y, z are in mm, and px, py, pz in GeV\n",
    "\n",
    "df.head()"
   ]
  },
  {
   "cell_type": "code",
   "execution_count": null,
   "id": "6b590d52",
   "metadata": {},
   "outputs": [],
   "source": [
    "df.hist(figsize=(12,8),bins=50)"
   ]
  },
  {
   "cell_type": "code",
   "execution_count": null,
   "id": "d04cad49",
   "metadata": {},
   "outputs": [],
   "source": [
    "# Uncomment lines below for correlation matrix. It just takes a while for it to run\n",
    "#from pandas.plotting import scatter_matrix\n",
    "#attributes = ['x','y','z','px','py','pz','NormFact']\n",
    "#scatter_matrix(df,figsize=(12,8))\n",
    "#plt.savefig('scatter_matrix.png',dpi=600)"
   ]
  },
  {
   "cell_type": "markdown",
   "id": "9f7f2ed2",
   "metadata": {},
   "source": [
    "#### Creating 1D histogram that will be turned into a generator"
   ]
  },
  {
   "cell_type": "code",
   "execution_count": null,
   "id": "77115618",
   "metadata": {},
   "outputs": [],
   "source": [
    "n_entries = len(df)\n",
    "h1_df = ROOT.TH1D('h1_df',';entry;W [#gamma/sec]',n_entries,0,n_entries)\n",
    "for i in range(n_entries):\n",
    "    h1_df.SetBinContent(i+1,df['NormFact'].iloc[i])"
   ]
  },
  {
   "cell_type": "code",
   "execution_count": null,
   "id": "30ab44da",
   "metadata": {
    "scrolled": false
   },
   "outputs": [],
   "source": [
    "# Extra figure. Nothing different from what will be plotted in the next cell\n",
    "#c1 = ROOT.TCanvas('c1')\n",
    "#c1.Draw()\n",
    "#h1_df.Draw()\n",
    "#ROOT.gPad.SetLogy()"
   ]
  },
  {
   "cell_type": "code",
   "execution_count": null,
   "id": "73f220ae",
   "metadata": {},
   "outputs": [],
   "source": [
    "plt.figure()\n",
    "x = np.linspace(0,1800000,1800000)\n",
    "plt.hist(x,weights=df['NormFact'],bins=1800)\n",
    "plt.yscale('log')\n",
    "plt.xlabel('entry')\n",
    "plt.ylabel(r'flux [$\\gamma$/sec]')\n",
    "plt.savefig('generated_events/generator.png',dpi=400)\n",
    "plt.show()"
   ]
  },
  {
   "cell_type": "markdown",
   "id": "9a82cc94",
   "metadata": {},
   "source": [
    "#### Implementing the event generator"
   ]
  },
  {
   "cell_type": "code",
   "execution_count": null,
   "id": "30e77113",
   "metadata": {},
   "outputs": [],
   "source": [
    "def generate_an_event(integration_window):\n",
    "\n",
    "    event = []\n",
    "    integrated_so_far = 0.\n",
    "    \n",
    "    while integrated_so_far < integration_window:\n",
    "        x = h1_df.FindBin(h1_df.GetRandom())\n",
    "        \n",
    "        if x >= 1800000:\n",
    "            continue\n",
    "        \n",
    "        photon = df.iloc[x]\n",
    "        \n",
    "        integrated_so_far += 1./photon['NormFact']\n",
    "        event.append(photon)\n",
    "        \n",
    "    return event"
   ]
  },
  {
   "cell_type": "markdown",
   "id": "edff9364",
   "metadata": {},
   "source": [
    "#### Generating events and saving them to hepmc files"
   ]
  },
  {
   "cell_type": "code",
   "execution_count": null,
   "id": "80348d7f",
   "metadata": {},
   "outputs": [],
   "source": [
    "h_n_photons_per_event = ROOT.TH1D('h_n_photons_per_event','',50,100,400)\n",
    "\n",
    "events = []\n",
    "hep_events = []\n",
    "photons_per_event = []\n",
    "z_dist = []\n",
    "rho_dist = []\n",
    "\n",
    "f = hep.WriterAscii(outfname)\n",
    "\n",
    "for i in range(n_events):\n",
    "    event = generate_an_event(integration_window)\n",
    "    \n",
    "    # ---------------------------------------------------\n",
    "    # Save to hepmc format\n",
    "    # implemented following the example from:\n",
    "    # https://github.com/scikit-hep/pyhepmc/blob/master/tests/test_basic.py\n",
    "    evt = hep.GenEvent(hep.Units.GEV, hep.Units.MM)\n",
    "    evt.event_number = i+1\n",
    "    particles_out = []\n",
    "    particles_in = []\n",
    "    vertices = []\n",
    "    \n",
    "    # loop over each photon in the event\n",
    "    for g in range(len(event)):\n",
    "        \n",
    "        x = event[g]['x']\n",
    "        y = event[g]['y']\n",
    "        z = event[g]['z']\n",
    "        \n",
    "        z_dist.append(z)\n",
    "        rho_dist.append(math.sqrt(x*x+y*y))\n",
    "        \n",
    "        px = event[g]['px']\n",
    "        py = event[g]['py']\n",
    "        pz = event[g]['pz']\n",
    "        E = math.sqrt(px**2 + py**2 + pz**2)\n",
    "        \n",
    "        pinx = E*x/math.sqrt(x*x+y*y+z*z)\n",
    "        piny = E*y/math.sqrt(x*x+y*y+z*z)\n",
    "        pinz = E*z/math.sqrt(x*x+y*y+z*z)\n",
    "        \n",
    "        # Particles going into the vertex\n",
    "        pin = hep.GenParticle((pinx,piny,pinz,E),pid,1)\n",
    "        pin.generated_mass = 0.\n",
    "        evt.add_particle(pin)\n",
    "        particles_in.append(pin)\n",
    "        \n",
    "        # Particles coming out of the vertex\n",
    "        pout = hep.GenParticle((px,py,pz,E),pid,1)\n",
    "        pout.generated_mass = 0.\n",
    "        evt.add_particle(pout)\n",
    "        particles_out.append(pout)\n",
    "        \n",
    "        # make sure vertex is not optimized away by WriterAscii\n",
    "        v1 = hep.GenVertex((x,y,z,0.))\n",
    "        v1.add_particle_in(pin)\n",
    "        v1.add_particle_out(pout)\n",
    "        evt.add_vertex(v1)\n",
    "        vertices.append(v1)\n",
    "        \n",
    "    # -------------------\n",
    "    #evt.weights = [1.0]\n",
    "    if i == 0:\n",
    "        evt.run_info = hep.GenRunInfo()\n",
    "        #evt.run_info.weight_names = [\"0\"]\n",
    "    hep_events.append(evt)\n",
    "    # ---------------------------------------------------\n",
    "    \n",
    "    photons_per_event.append(len(event))\n",
    "        \n",
    "    if i < 15:\n",
    "        events.append(event)\n",
    "        \n",
    "with hep.WriterAscii(outfname) as f:\n",
    "    for e in hep_events:\n",
    "        f.write_event(e)"
   ]
  },
  {
   "cell_type": "markdown",
   "id": "586e095c",
   "metadata": {},
   "source": [
    "#### Making some plots with the generated data"
   ]
  },
  {
   "cell_type": "code",
   "execution_count": null,
   "id": "fa9b0490",
   "metadata": {},
   "outputs": [],
   "source": [
    "plt.figure()\n",
    "plt.hist(photons_per_event)\n",
    "plt.xlabel('# photons per event')\n",
    "plt.savefig('generated_events/Nphotons_per_event.png',dpi=400)\n",
    "plt.show()"
   ]
  },
  {
   "cell_type": "code",
   "execution_count": null,
   "id": "2e863528",
   "metadata": {
    "scrolled": false
   },
   "outputs": [],
   "source": [
    "plt.figure(figsize=(13,8))\n",
    "\n",
    "circle1 = plt.Circle((0, 0), 0.3, color='r')\n",
    "\n",
    "for i in range(6):\n",
    "    plt.subplot(2,3,i+1)\n",
    "    \n",
    "    x = []\n",
    "    y = []\n",
    "    P = []\n",
    "    p1 = []\n",
    "    \n",
    "    for j in range(len(events[i])):\n",
    "        x.append(events[i][j]['x'])\n",
    "        y.append(events[i][j]['y'])\n",
    "        P.append(math.sqrt(events[i][j]['px']**2+events[i][j]['py']**2+events[i][j]['pz']**2))\n",
    "        \n",
    "    min_p = min(P)\n",
    "    max_p = max(P)\n",
    "    for p in P:\n",
    "        p1.append((p-min_p)/(max_p-min_p))\n",
    "    \n",
    "    plt.scatter(x,y,marker='o',alpha=0.2)\n",
    "        \n",
    "    plt.xlim(-40,40)\n",
    "    plt.ylim(-40,40)\n",
    "    plt.xlabel('x [mm]')\n",
    "    plt.ylabel('y [mm]')\n",
    "    \n",
    "    plt.text(-8,0,r'{} $\\gamma$'.format(len(events[i])),fontsize=15)\n",
    "    \n",
    "    circle1 = plt.Circle((0,0), radius=29.5,color='black',fill=False,linestyle='--',alpha=0.3)\n",
    "    plt.gca().add_patch(circle1)\n",
    "    \n",
    "plt.tight_layout()\n",
    "plt.savefig('generated_events/xy.png',dpi=400)\n",
    "plt.show()"
   ]
  },
  {
   "cell_type": "code",
   "execution_count": null,
   "id": "dc02524d",
   "metadata": {},
   "outputs": [],
   "source": [
    "plt.figure(figsize=(13,8))\n",
    "plt.hist(z_dist,bins=100)"
   ]
  },
  {
   "cell_type": "code",
   "execution_count": null,
   "id": "90d8317f",
   "metadata": {},
   "outputs": [],
   "source": [
    "plt.figure(figsize=(13,8))\n",
    "plt.hist(rho_dist,bins=100)"
   ]
  },
  {
   "cell_type": "code",
   "execution_count": null,
   "id": "6875cae4",
   "metadata": {},
   "outputs": [],
   "source": [
    "!say \"The generator is done. An output file was produced.\"\n",
    "t = time.time()-t0 #sec\n",
    "print('time that took to finish: ',t/60.,'min')"
   ]
  }
 ],
 "metadata": {
  "kernelspec": {
   "display_name": "Python 3",
   "language": "python",
   "name": "python3"
  },
  "language_info": {
   "codemirror_mode": {
    "name": "ipython",
    "version": 3
   },
   "file_extension": ".py",
   "mimetype": "text/x-python",
   "name": "python",
   "nbconvert_exporter": "python",
   "pygments_lexer": "ipython3",
   "version": "3.9.12"
  }
 },
 "nbformat": 4,
 "nbformat_minor": 5
}
